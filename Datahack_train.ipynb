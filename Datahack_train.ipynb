{
  "cells": [
    {
      "cell_type": "code",
      "source": [
        "from google.colab import drive\n",
        "drive.mount('/content/drive')"
      ],
      "metadata": {
        "colab": {
          "base_uri": "https://localhost:8080/"
        },
        "id": "jESBsXotE-kD",
        "outputId": "5ad656d2-02a7-4ec0-c6c0-7863f8e48f3c"
      },
      "id": "jESBsXotE-kD",
      "execution_count": null,
      "outputs": [
        {
          "output_type": "stream",
          "name": "stdout",
          "text": [
            "Drive already mounted at /content/drive; to attempt to forcibly remount, call drive.mount(\"/content/drive\", force_remount=True).\n"
          ]
        }
      ]
    },
    {
      "cell_type": "code",
      "source": [
        "import warnings\n",
        "warnings.filterwarnings('ignore')"
      ],
      "metadata": {
        "id": "1cr3XymrwxzJ"
      },
      "id": "1cr3XymrwxzJ",
      "execution_count": null,
      "outputs": []
    },
    {
      "cell_type": "code",
      "source": [
        "import pandas as pd\n",
        "import numpy as np\n",
        "import matplotlib.pyplot as plt\n",
        "import seaborn as sns\n",
        "plt.style.use('fivethirtyeight')\n",
        "colors=['#011f4b','#03396c','#005b96','#6497b1','#b3cde0']\n",
        "sns.set_palette(sns.color_palette(colors))"
      ],
      "metadata": {
        "id": "Innm9TAlFKZL"
      },
      "id": "Innm9TAlFKZL",
      "execution_count": null,
      "outputs": []
    },
    {
      "cell_type": "markdown",
      "id": "68466068",
      "metadata": {
        "id": "68466068"
      },
      "source": [
        "# Reading and Understanding Data"
      ]
    },
    {
      "cell_type": "code",
      "execution_count": null,
      "id": "82d91bd3",
      "metadata": {
        "colab": {
          "base_uri": "https://localhost:8080/",
          "height": 337
        },
        "id": "82d91bd3",
        "outputId": "6a6ce1e6-2402-4c48-b5d1-8c9411ea9333"
      },
      "outputs": [
        {
          "output_type": "execute_result",
          "data": {
            "text/plain": [
              "                               Name    Location  Year  Kilometers_Driven  \\\n",
              "0            Maruti Wagon R LXI CNG      Mumbai  2010              72000   \n",
              "1  Hyundai Creta 1.6 CRDi SX Option        Pune  2015              41000   \n",
              "2                      Honda Jazz V     Chennai  2011              46000   \n",
              "3                 Maruti Ertiga VDI     Chennai  2012              87000   \n",
              "4   Audi A4 New 2.0 TDI Multitronic  Coimbatore  2013              40670   \n",
              "\n",
              "  Fuel_Type Transmission Owner_Type     Mileage   Engine      Power  Seats  \\\n",
              "0       CNG       Manual      First  26.6 km/kg   998 CC  58.16 bhp    5.0   \n",
              "1    Diesel       Manual      First  19.67 kmpl  1582 CC  126.2 bhp    5.0   \n",
              "2    Petrol       Manual      First   18.2 kmpl  1199 CC   88.7 bhp    5.0   \n",
              "3    Diesel       Manual      First  20.77 kmpl  1248 CC  88.76 bhp    7.0   \n",
              "4    Diesel    Automatic     Second   15.2 kmpl  1968 CC  140.8 bhp    5.0   \n",
              "\n",
              "   New_Price  Price  \n",
              "0        NaN   1.75  \n",
              "1        NaN  12.50  \n",
              "2  8.61 Lakh   4.50  \n",
              "3        NaN   6.00  \n",
              "4        NaN  17.74  "
            ],
            "text/html": [
              "\n",
              "  <div id=\"df-394fee72-f3e4-4b24-a537-66435903ca08\">\n",
              "    <div class=\"colab-df-container\">\n",
              "      <div>\n",
              "<style scoped>\n",
              "    .dataframe tbody tr th:only-of-type {\n",
              "        vertical-align: middle;\n",
              "    }\n",
              "\n",
              "    .dataframe tbody tr th {\n",
              "        vertical-align: top;\n",
              "    }\n",
              "\n",
              "    .dataframe thead th {\n",
              "        text-align: right;\n",
              "    }\n",
              "</style>\n",
              "<table border=\"1\" class=\"dataframe\">\n",
              "  <thead>\n",
              "    <tr style=\"text-align: right;\">\n",
              "      <th></th>\n",
              "      <th>Name</th>\n",
              "      <th>Location</th>\n",
              "      <th>Year</th>\n",
              "      <th>Kilometers_Driven</th>\n",
              "      <th>Fuel_Type</th>\n",
              "      <th>Transmission</th>\n",
              "      <th>Owner_Type</th>\n",
              "      <th>Mileage</th>\n",
              "      <th>Engine</th>\n",
              "      <th>Power</th>\n",
              "      <th>Seats</th>\n",
              "      <th>New_Price</th>\n",
              "      <th>Price</th>\n",
              "    </tr>\n",
              "  </thead>\n",
              "  <tbody>\n",
              "    <tr>\n",
              "      <th>0</th>\n",
              "      <td>Maruti Wagon R LXI CNG</td>\n",
              "      <td>Mumbai</td>\n",
              "      <td>2010</td>\n",
              "      <td>72000</td>\n",
              "      <td>CNG</td>\n",
              "      <td>Manual</td>\n",
              "      <td>First</td>\n",
              "      <td>26.6 km/kg</td>\n",
              "      <td>998 CC</td>\n",
              "      <td>58.16 bhp</td>\n",
              "      <td>5.0</td>\n",
              "      <td>NaN</td>\n",
              "      <td>1.75</td>\n",
              "    </tr>\n",
              "    <tr>\n",
              "      <th>1</th>\n",
              "      <td>Hyundai Creta 1.6 CRDi SX Option</td>\n",
              "      <td>Pune</td>\n",
              "      <td>2015</td>\n",
              "      <td>41000</td>\n",
              "      <td>Diesel</td>\n",
              "      <td>Manual</td>\n",
              "      <td>First</td>\n",
              "      <td>19.67 kmpl</td>\n",
              "      <td>1582 CC</td>\n",
              "      <td>126.2 bhp</td>\n",
              "      <td>5.0</td>\n",
              "      <td>NaN</td>\n",
              "      <td>12.50</td>\n",
              "    </tr>\n",
              "    <tr>\n",
              "      <th>2</th>\n",
              "      <td>Honda Jazz V</td>\n",
              "      <td>Chennai</td>\n",
              "      <td>2011</td>\n",
              "      <td>46000</td>\n",
              "      <td>Petrol</td>\n",
              "      <td>Manual</td>\n",
              "      <td>First</td>\n",
              "      <td>18.2 kmpl</td>\n",
              "      <td>1199 CC</td>\n",
              "      <td>88.7 bhp</td>\n",
              "      <td>5.0</td>\n",
              "      <td>8.61 Lakh</td>\n",
              "      <td>4.50</td>\n",
              "    </tr>\n",
              "    <tr>\n",
              "      <th>3</th>\n",
              "      <td>Maruti Ertiga VDI</td>\n",
              "      <td>Chennai</td>\n",
              "      <td>2012</td>\n",
              "      <td>87000</td>\n",
              "      <td>Diesel</td>\n",
              "      <td>Manual</td>\n",
              "      <td>First</td>\n",
              "      <td>20.77 kmpl</td>\n",
              "      <td>1248 CC</td>\n",
              "      <td>88.76 bhp</td>\n",
              "      <td>7.0</td>\n",
              "      <td>NaN</td>\n",
              "      <td>6.00</td>\n",
              "    </tr>\n",
              "    <tr>\n",
              "      <th>4</th>\n",
              "      <td>Audi A4 New 2.0 TDI Multitronic</td>\n",
              "      <td>Coimbatore</td>\n",
              "      <td>2013</td>\n",
              "      <td>40670</td>\n",
              "      <td>Diesel</td>\n",
              "      <td>Automatic</td>\n",
              "      <td>Second</td>\n",
              "      <td>15.2 kmpl</td>\n",
              "      <td>1968 CC</td>\n",
              "      <td>140.8 bhp</td>\n",
              "      <td>5.0</td>\n",
              "      <td>NaN</td>\n",
              "      <td>17.74</td>\n",
              "    </tr>\n",
              "  </tbody>\n",
              "</table>\n",
              "</div>\n",
              "      <button class=\"colab-df-convert\" onclick=\"convertToInteractive('df-394fee72-f3e4-4b24-a537-66435903ca08')\"\n",
              "              title=\"Convert this dataframe to an interactive table.\"\n",
              "              style=\"display:none;\">\n",
              "        \n",
              "  <svg xmlns=\"http://www.w3.org/2000/svg\" height=\"24px\"viewBox=\"0 0 24 24\"\n",
              "       width=\"24px\">\n",
              "    <path d=\"M0 0h24v24H0V0z\" fill=\"none\"/>\n",
              "    <path d=\"M18.56 5.44l.94 2.06.94-2.06 2.06-.94-2.06-.94-.94-2.06-.94 2.06-2.06.94zm-11 1L8.5 8.5l.94-2.06 2.06-.94-2.06-.94L8.5 2.5l-.94 2.06-2.06.94zm10 10l.94 2.06.94-2.06 2.06-.94-2.06-.94-.94-2.06-.94 2.06-2.06.94z\"/><path d=\"M17.41 7.96l-1.37-1.37c-.4-.4-.92-.59-1.43-.59-.52 0-1.04.2-1.43.59L10.3 9.45l-7.72 7.72c-.78.78-.78 2.05 0 2.83L4 21.41c.39.39.9.59 1.41.59.51 0 1.02-.2 1.41-.59l7.78-7.78 2.81-2.81c.8-.78.8-2.07 0-2.86zM5.41 20L4 18.59l7.72-7.72 1.47 1.35L5.41 20z\"/>\n",
              "  </svg>\n",
              "      </button>\n",
              "      \n",
              "  <style>\n",
              "    .colab-df-container {\n",
              "      display:flex;\n",
              "      flex-wrap:wrap;\n",
              "      gap: 12px;\n",
              "    }\n",
              "\n",
              "    .colab-df-convert {\n",
              "      background-color: #E8F0FE;\n",
              "      border: none;\n",
              "      border-radius: 50%;\n",
              "      cursor: pointer;\n",
              "      display: none;\n",
              "      fill: #1967D2;\n",
              "      height: 32px;\n",
              "      padding: 0 0 0 0;\n",
              "      width: 32px;\n",
              "    }\n",
              "\n",
              "    .colab-df-convert:hover {\n",
              "      background-color: #E2EBFA;\n",
              "      box-shadow: 0px 1px 2px rgba(60, 64, 67, 0.3), 0px 1px 3px 1px rgba(60, 64, 67, 0.15);\n",
              "      fill: #174EA6;\n",
              "    }\n",
              "\n",
              "    [theme=dark] .colab-df-convert {\n",
              "      background-color: #3B4455;\n",
              "      fill: #D2E3FC;\n",
              "    }\n",
              "\n",
              "    [theme=dark] .colab-df-convert:hover {\n",
              "      background-color: #434B5C;\n",
              "      box-shadow: 0px 1px 3px 1px rgba(0, 0, 0, 0.15);\n",
              "      filter: drop-shadow(0px 1px 2px rgba(0, 0, 0, 0.3));\n",
              "      fill: #FFFFFF;\n",
              "    }\n",
              "  </style>\n",
              "\n",
              "      <script>\n",
              "        const buttonEl =\n",
              "          document.querySelector('#df-394fee72-f3e4-4b24-a537-66435903ca08 button.colab-df-convert');\n",
              "        buttonEl.style.display =\n",
              "          google.colab.kernel.accessAllowed ? 'block' : 'none';\n",
              "\n",
              "        async function convertToInteractive(key) {\n",
              "          const element = document.querySelector('#df-394fee72-f3e4-4b24-a537-66435903ca08');\n",
              "          const dataTable =\n",
              "            await google.colab.kernel.invokeFunction('convertToInteractive',\n",
              "                                                     [key], {});\n",
              "          if (!dataTable) return;\n",
              "\n",
              "          const docLinkHtml = 'Like what you see? Visit the ' +\n",
              "            '<a target=\"_blank\" href=https://colab.research.google.com/notebooks/data_table.ipynb>data table notebook</a>'\n",
              "            + ' to learn more about interactive tables.';\n",
              "          element.innerHTML = '';\n",
              "          dataTable['output_type'] = 'display_data';\n",
              "          await google.colab.output.renderOutput(dataTable, element);\n",
              "          const docLink = document.createElement('div');\n",
              "          docLink.innerHTML = docLinkHtml;\n",
              "          element.appendChild(docLink);\n",
              "        }\n",
              "      </script>\n",
              "    </div>\n",
              "  </div>\n",
              "  "
            ]
          },
          "metadata": {},
          "execution_count": 16
        }
      ],
      "source": [
        "df = pd.read_csv(\"/content/drive/MyDrive/Temp_hack/data/Train/train_data.csv\")\n",
        "df.head()"
      ]
    },
    {
      "cell_type": "code",
      "execution_count": null,
      "id": "10859af0",
      "metadata": {
        "colab": {
          "base_uri": "https://localhost:8080/"
        },
        "id": "10859af0",
        "outputId": "bb7f1bc7-1c16-4046-91dd-c81420b5c2ae"
      },
      "outputs": [
        {
          "output_type": "stream",
          "name": "stdout",
          "text": [
            "<class 'pandas.core.frame.DataFrame'>\n",
            "RangeIndex: 3499 entries, 0 to 3498\n",
            "Data columns (total 13 columns):\n",
            " #   Column             Non-Null Count  Dtype  \n",
            "---  ------             --------------  -----  \n",
            " 0   Name               3499 non-null   object \n",
            " 1   Location           3499 non-null   object \n",
            " 2   Year               3499 non-null   int64  \n",
            " 3   Kilometers_Driven  3499 non-null   int64  \n",
            " 4   Fuel_Type          3499 non-null   object \n",
            " 5   Transmission       3499 non-null   object \n",
            " 6   Owner_Type         3499 non-null   object \n",
            " 7   Mileage            3499 non-null   object \n",
            " 8   Engine             3477 non-null   object \n",
            " 9   Power              3477 non-null   object \n",
            " 10  Seats              3474 non-null   float64\n",
            " 11  New_Price          481 non-null    object \n",
            " 12  Price              3499 non-null   float64\n",
            "dtypes: float64(2), int64(2), object(9)\n",
            "memory usage: 355.5+ KB\n"
          ]
        }
      ],
      "source": [
        "df.info()"
      ]
    },
    {
      "cell_type": "code",
      "execution_count": null,
      "id": "714c07cd",
      "metadata": {
        "id": "714c07cd"
      },
      "outputs": [],
      "source": [
        "df.drop('New_Price', axis=1, inplace=True)"
      ]
    },
    {
      "cell_type": "markdown",
      "id": "0959f4bb",
      "metadata": {
        "id": "0959f4bb"
      },
      "source": [
        "### Filling Null Values"
      ]
    },
    {
      "cell_type": "code",
      "execution_count": null,
      "id": "a63759eb",
      "metadata": {
        "colab": {
          "base_uri": "https://localhost:8080/",
          "height": 250
        },
        "id": "a63759eb",
        "outputId": "421a42be-f1f9-4fe1-9b46-1182e52fcbcb"
      },
      "outputs": [
        {
          "output_type": "execute_result",
          "data": {
            "text/plain": [
              "                               Name    Location  Year  Kilometers_Driven  \\\n",
              "0            Maruti Wagon R LXI CNG      Mumbai  2010              72000   \n",
              "1  Hyundai Creta 1.6 CRDi SX Option        Pune  2015              41000   \n",
              "2                      Honda Jazz V     Chennai  2011              46000   \n",
              "3                 Maruti Ertiga VDI     Chennai  2012              87000   \n",
              "4   Audi A4 New 2.0 TDI Multitronic  Coimbatore  2013              40670   \n",
              "\n",
              "  Fuel_Type Transmission Owner_Type     Mileage   Engine      Power  Seats  \\\n",
              "0       CNG       Manual      First  26.6 km/kg   998 CC  58.16 bhp    5.0   \n",
              "1    Diesel       Manual      First  19.67 kmpl  1582 CC  126.2 bhp    5.0   \n",
              "2    Petrol       Manual      First   18.2 kmpl  1199 CC   88.7 bhp    5.0   \n",
              "3    Diesel       Manual      First  20.77 kmpl  1248 CC  88.76 bhp    7.0   \n",
              "4    Diesel    Automatic     Second   15.2 kmpl  1968 CC  140.8 bhp    5.0   \n",
              "\n",
              "   Price  \n",
              "0   1.75  \n",
              "1  12.50  \n",
              "2   4.50  \n",
              "3   6.00  \n",
              "4  17.74  "
            ],
            "text/html": [
              "\n",
              "  <div id=\"df-2016011e-12f4-4db9-b0f8-6def7c8c5fb1\">\n",
              "    <div class=\"colab-df-container\">\n",
              "      <div>\n",
              "<style scoped>\n",
              "    .dataframe tbody tr th:only-of-type {\n",
              "        vertical-align: middle;\n",
              "    }\n",
              "\n",
              "    .dataframe tbody tr th {\n",
              "        vertical-align: top;\n",
              "    }\n",
              "\n",
              "    .dataframe thead th {\n",
              "        text-align: right;\n",
              "    }\n",
              "</style>\n",
              "<table border=\"1\" class=\"dataframe\">\n",
              "  <thead>\n",
              "    <tr style=\"text-align: right;\">\n",
              "      <th></th>\n",
              "      <th>Name</th>\n",
              "      <th>Location</th>\n",
              "      <th>Year</th>\n",
              "      <th>Kilometers_Driven</th>\n",
              "      <th>Fuel_Type</th>\n",
              "      <th>Transmission</th>\n",
              "      <th>Owner_Type</th>\n",
              "      <th>Mileage</th>\n",
              "      <th>Engine</th>\n",
              "      <th>Power</th>\n",
              "      <th>Seats</th>\n",
              "      <th>Price</th>\n",
              "    </tr>\n",
              "  </thead>\n",
              "  <tbody>\n",
              "    <tr>\n",
              "      <th>0</th>\n",
              "      <td>Maruti Wagon R LXI CNG</td>\n",
              "      <td>Mumbai</td>\n",
              "      <td>2010</td>\n",
              "      <td>72000</td>\n",
              "      <td>CNG</td>\n",
              "      <td>Manual</td>\n",
              "      <td>First</td>\n",
              "      <td>26.6 km/kg</td>\n",
              "      <td>998 CC</td>\n",
              "      <td>58.16 bhp</td>\n",
              "      <td>5.0</td>\n",
              "      <td>1.75</td>\n",
              "    </tr>\n",
              "    <tr>\n",
              "      <th>1</th>\n",
              "      <td>Hyundai Creta 1.6 CRDi SX Option</td>\n",
              "      <td>Pune</td>\n",
              "      <td>2015</td>\n",
              "      <td>41000</td>\n",
              "      <td>Diesel</td>\n",
              "      <td>Manual</td>\n",
              "      <td>First</td>\n",
              "      <td>19.67 kmpl</td>\n",
              "      <td>1582 CC</td>\n",
              "      <td>126.2 bhp</td>\n",
              "      <td>5.0</td>\n",
              "      <td>12.50</td>\n",
              "    </tr>\n",
              "    <tr>\n",
              "      <th>2</th>\n",
              "      <td>Honda Jazz V</td>\n",
              "      <td>Chennai</td>\n",
              "      <td>2011</td>\n",
              "      <td>46000</td>\n",
              "      <td>Petrol</td>\n",
              "      <td>Manual</td>\n",
              "      <td>First</td>\n",
              "      <td>18.2 kmpl</td>\n",
              "      <td>1199 CC</td>\n",
              "      <td>88.7 bhp</td>\n",
              "      <td>5.0</td>\n",
              "      <td>4.50</td>\n",
              "    </tr>\n",
              "    <tr>\n",
              "      <th>3</th>\n",
              "      <td>Maruti Ertiga VDI</td>\n",
              "      <td>Chennai</td>\n",
              "      <td>2012</td>\n",
              "      <td>87000</td>\n",
              "      <td>Diesel</td>\n",
              "      <td>Manual</td>\n",
              "      <td>First</td>\n",
              "      <td>20.77 kmpl</td>\n",
              "      <td>1248 CC</td>\n",
              "      <td>88.76 bhp</td>\n",
              "      <td>7.0</td>\n",
              "      <td>6.00</td>\n",
              "    </tr>\n",
              "    <tr>\n",
              "      <th>4</th>\n",
              "      <td>Audi A4 New 2.0 TDI Multitronic</td>\n",
              "      <td>Coimbatore</td>\n",
              "      <td>2013</td>\n",
              "      <td>40670</td>\n",
              "      <td>Diesel</td>\n",
              "      <td>Automatic</td>\n",
              "      <td>Second</td>\n",
              "      <td>15.2 kmpl</td>\n",
              "      <td>1968 CC</td>\n",
              "      <td>140.8 bhp</td>\n",
              "      <td>5.0</td>\n",
              "      <td>17.74</td>\n",
              "    </tr>\n",
              "  </tbody>\n",
              "</table>\n",
              "</div>\n",
              "      <button class=\"colab-df-convert\" onclick=\"convertToInteractive('df-2016011e-12f4-4db9-b0f8-6def7c8c5fb1')\"\n",
              "              title=\"Convert this dataframe to an interactive table.\"\n",
              "              style=\"display:none;\">\n",
              "        \n",
              "  <svg xmlns=\"http://www.w3.org/2000/svg\" height=\"24px\"viewBox=\"0 0 24 24\"\n",
              "       width=\"24px\">\n",
              "    <path d=\"M0 0h24v24H0V0z\" fill=\"none\"/>\n",
              "    <path d=\"M18.56 5.44l.94 2.06.94-2.06 2.06-.94-2.06-.94-.94-2.06-.94 2.06-2.06.94zm-11 1L8.5 8.5l.94-2.06 2.06-.94-2.06-.94L8.5 2.5l-.94 2.06-2.06.94zm10 10l.94 2.06.94-2.06 2.06-.94-2.06-.94-.94-2.06-.94 2.06-2.06.94z\"/><path d=\"M17.41 7.96l-1.37-1.37c-.4-.4-.92-.59-1.43-.59-.52 0-1.04.2-1.43.59L10.3 9.45l-7.72 7.72c-.78.78-.78 2.05 0 2.83L4 21.41c.39.39.9.59 1.41.59.51 0 1.02-.2 1.41-.59l7.78-7.78 2.81-2.81c.8-.78.8-2.07 0-2.86zM5.41 20L4 18.59l7.72-7.72 1.47 1.35L5.41 20z\"/>\n",
              "  </svg>\n",
              "      </button>\n",
              "      \n",
              "  <style>\n",
              "    .colab-df-container {\n",
              "      display:flex;\n",
              "      flex-wrap:wrap;\n",
              "      gap: 12px;\n",
              "    }\n",
              "\n",
              "    .colab-df-convert {\n",
              "      background-color: #E8F0FE;\n",
              "      border: none;\n",
              "      border-radius: 50%;\n",
              "      cursor: pointer;\n",
              "      display: none;\n",
              "      fill: #1967D2;\n",
              "      height: 32px;\n",
              "      padding: 0 0 0 0;\n",
              "      width: 32px;\n",
              "    }\n",
              "\n",
              "    .colab-df-convert:hover {\n",
              "      background-color: #E2EBFA;\n",
              "      box-shadow: 0px 1px 2px rgba(60, 64, 67, 0.3), 0px 1px 3px 1px rgba(60, 64, 67, 0.15);\n",
              "      fill: #174EA6;\n",
              "    }\n",
              "\n",
              "    [theme=dark] .colab-df-convert {\n",
              "      background-color: #3B4455;\n",
              "      fill: #D2E3FC;\n",
              "    }\n",
              "\n",
              "    [theme=dark] .colab-df-convert:hover {\n",
              "      background-color: #434B5C;\n",
              "      box-shadow: 0px 1px 3px 1px rgba(0, 0, 0, 0.15);\n",
              "      filter: drop-shadow(0px 1px 2px rgba(0, 0, 0, 0.3));\n",
              "      fill: #FFFFFF;\n",
              "    }\n",
              "  </style>\n",
              "\n",
              "      <script>\n",
              "        const buttonEl =\n",
              "          document.querySelector('#df-2016011e-12f4-4db9-b0f8-6def7c8c5fb1 button.colab-df-convert');\n",
              "        buttonEl.style.display =\n",
              "          google.colab.kernel.accessAllowed ? 'block' : 'none';\n",
              "\n",
              "        async function convertToInteractive(key) {\n",
              "          const element = document.querySelector('#df-2016011e-12f4-4db9-b0f8-6def7c8c5fb1');\n",
              "          const dataTable =\n",
              "            await google.colab.kernel.invokeFunction('convertToInteractive',\n",
              "                                                     [key], {});\n",
              "          if (!dataTable) return;\n",
              "\n",
              "          const docLinkHtml = 'Like what you see? Visit the ' +\n",
              "            '<a target=\"_blank\" href=https://colab.research.google.com/notebooks/data_table.ipynb>data table notebook</a>'\n",
              "            + ' to learn more about interactive tables.';\n",
              "          element.innerHTML = '';\n",
              "          dataTable['output_type'] = 'display_data';\n",
              "          await google.colab.output.renderOutput(dataTable, element);\n",
              "          const docLink = document.createElement('div');\n",
              "          docLink.innerHTML = docLinkHtml;\n",
              "          element.appendChild(docLink);\n",
              "        }\n",
              "      </script>\n",
              "    </div>\n",
              "  </div>\n",
              "  "
            ]
          },
          "metadata": {},
          "execution_count": 19
        }
      ],
      "source": [
        "df['Engine'].fillna('0 CC', inplace=True)\n",
        "df['Power'].fillna('0 bhp', inplace=True)\n",
        "df['Seats'].fillna(df['Seats'].mean(), inplace=True)\n",
        "df.head()"
      ]
    },
    {
      "cell_type": "markdown",
      "id": "1696b6bb",
      "metadata": {
        "id": "1696b6bb"
      },
      "source": [
        "### Extracting Numerical Values From String Value"
      ]
    },
    {
      "cell_type": "code",
      "execution_count": null,
      "id": "ef3b5445",
      "metadata": {
        "colab": {
          "base_uri": "https://localhost:8080/",
          "height": 206
        },
        "id": "ef3b5445",
        "outputId": "2a192e7c-b902-457b-e7e0-8fedfb8a348b"
      },
      "outputs": [
        {
          "output_type": "execute_result",
          "data": {
            "text/plain": [
              "                               Name    Location  Year  Kilometers_Driven  \\\n",
              "0            Maruti Wagon R LXI CNG      Mumbai  2010              72000   \n",
              "1  Hyundai Creta 1.6 CRDi SX Option        Pune  2015              41000   \n",
              "2                      Honda Jazz V     Chennai  2011              46000   \n",
              "3                 Maruti Ertiga VDI     Chennai  2012              87000   \n",
              "4   Audi A4 New 2.0 TDI Multitronic  Coimbatore  2013              40670   \n",
              "\n",
              "  Fuel_Type Transmission Owner_Type  Mileage  Engine  Power  Seats  Price  \n",
              "0       CNG       Manual      First       26     998   58.0    5.0   1.75  \n",
              "1    Diesel       Manual      First       19    1582  126.0    5.0  12.50  \n",
              "2    Petrol       Manual      First       18    1199   88.0    5.0   4.50  \n",
              "3    Diesel       Manual      First       20    1248   88.0    7.0   6.00  \n",
              "4    Diesel    Automatic     Second       15    1968  140.0    5.0  17.74  "
            ],
            "text/html": [
              "\n",
              "  <div id=\"df-9e7949c1-b842-40ff-a947-d09c6866c102\">\n",
              "    <div class=\"colab-df-container\">\n",
              "      <div>\n",
              "<style scoped>\n",
              "    .dataframe tbody tr th:only-of-type {\n",
              "        vertical-align: middle;\n",
              "    }\n",
              "\n",
              "    .dataframe tbody tr th {\n",
              "        vertical-align: top;\n",
              "    }\n",
              "\n",
              "    .dataframe thead th {\n",
              "        text-align: right;\n",
              "    }\n",
              "</style>\n",
              "<table border=\"1\" class=\"dataframe\">\n",
              "  <thead>\n",
              "    <tr style=\"text-align: right;\">\n",
              "      <th></th>\n",
              "      <th>Name</th>\n",
              "      <th>Location</th>\n",
              "      <th>Year</th>\n",
              "      <th>Kilometers_Driven</th>\n",
              "      <th>Fuel_Type</th>\n",
              "      <th>Transmission</th>\n",
              "      <th>Owner_Type</th>\n",
              "      <th>Mileage</th>\n",
              "      <th>Engine</th>\n",
              "      <th>Power</th>\n",
              "      <th>Seats</th>\n",
              "      <th>Price</th>\n",
              "    </tr>\n",
              "  </thead>\n",
              "  <tbody>\n",
              "    <tr>\n",
              "      <th>0</th>\n",
              "      <td>Maruti Wagon R LXI CNG</td>\n",
              "      <td>Mumbai</td>\n",
              "      <td>2010</td>\n",
              "      <td>72000</td>\n",
              "      <td>CNG</td>\n",
              "      <td>Manual</td>\n",
              "      <td>First</td>\n",
              "      <td>26</td>\n",
              "      <td>998</td>\n",
              "      <td>58.0</td>\n",
              "      <td>5.0</td>\n",
              "      <td>1.75</td>\n",
              "    </tr>\n",
              "    <tr>\n",
              "      <th>1</th>\n",
              "      <td>Hyundai Creta 1.6 CRDi SX Option</td>\n",
              "      <td>Pune</td>\n",
              "      <td>2015</td>\n",
              "      <td>41000</td>\n",
              "      <td>Diesel</td>\n",
              "      <td>Manual</td>\n",
              "      <td>First</td>\n",
              "      <td>19</td>\n",
              "      <td>1582</td>\n",
              "      <td>126.0</td>\n",
              "      <td>5.0</td>\n",
              "      <td>12.50</td>\n",
              "    </tr>\n",
              "    <tr>\n",
              "      <th>2</th>\n",
              "      <td>Honda Jazz V</td>\n",
              "      <td>Chennai</td>\n",
              "      <td>2011</td>\n",
              "      <td>46000</td>\n",
              "      <td>Petrol</td>\n",
              "      <td>Manual</td>\n",
              "      <td>First</td>\n",
              "      <td>18</td>\n",
              "      <td>1199</td>\n",
              "      <td>88.0</td>\n",
              "      <td>5.0</td>\n",
              "      <td>4.50</td>\n",
              "    </tr>\n",
              "    <tr>\n",
              "      <th>3</th>\n",
              "      <td>Maruti Ertiga VDI</td>\n",
              "      <td>Chennai</td>\n",
              "      <td>2012</td>\n",
              "      <td>87000</td>\n",
              "      <td>Diesel</td>\n",
              "      <td>Manual</td>\n",
              "      <td>First</td>\n",
              "      <td>20</td>\n",
              "      <td>1248</td>\n",
              "      <td>88.0</td>\n",
              "      <td>7.0</td>\n",
              "      <td>6.00</td>\n",
              "    </tr>\n",
              "    <tr>\n",
              "      <th>4</th>\n",
              "      <td>Audi A4 New 2.0 TDI Multitronic</td>\n",
              "      <td>Coimbatore</td>\n",
              "      <td>2013</td>\n",
              "      <td>40670</td>\n",
              "      <td>Diesel</td>\n",
              "      <td>Automatic</td>\n",
              "      <td>Second</td>\n",
              "      <td>15</td>\n",
              "      <td>1968</td>\n",
              "      <td>140.0</td>\n",
              "      <td>5.0</td>\n",
              "      <td>17.74</td>\n",
              "    </tr>\n",
              "  </tbody>\n",
              "</table>\n",
              "</div>\n",
              "      <button class=\"colab-df-convert\" onclick=\"convertToInteractive('df-9e7949c1-b842-40ff-a947-d09c6866c102')\"\n",
              "              title=\"Convert this dataframe to an interactive table.\"\n",
              "              style=\"display:none;\">\n",
              "        \n",
              "  <svg xmlns=\"http://www.w3.org/2000/svg\" height=\"24px\"viewBox=\"0 0 24 24\"\n",
              "       width=\"24px\">\n",
              "    <path d=\"M0 0h24v24H0V0z\" fill=\"none\"/>\n",
              "    <path d=\"M18.56 5.44l.94 2.06.94-2.06 2.06-.94-2.06-.94-.94-2.06-.94 2.06-2.06.94zm-11 1L8.5 8.5l.94-2.06 2.06-.94-2.06-.94L8.5 2.5l-.94 2.06-2.06.94zm10 10l.94 2.06.94-2.06 2.06-.94-2.06-.94-.94-2.06-.94 2.06-2.06.94z\"/><path d=\"M17.41 7.96l-1.37-1.37c-.4-.4-.92-.59-1.43-.59-.52 0-1.04.2-1.43.59L10.3 9.45l-7.72 7.72c-.78.78-.78 2.05 0 2.83L4 21.41c.39.39.9.59 1.41.59.51 0 1.02-.2 1.41-.59l7.78-7.78 2.81-2.81c.8-.78.8-2.07 0-2.86zM5.41 20L4 18.59l7.72-7.72 1.47 1.35L5.41 20z\"/>\n",
              "  </svg>\n",
              "      </button>\n",
              "      \n",
              "  <style>\n",
              "    .colab-df-container {\n",
              "      display:flex;\n",
              "      flex-wrap:wrap;\n",
              "      gap: 12px;\n",
              "    }\n",
              "\n",
              "    .colab-df-convert {\n",
              "      background-color: #E8F0FE;\n",
              "      border: none;\n",
              "      border-radius: 50%;\n",
              "      cursor: pointer;\n",
              "      display: none;\n",
              "      fill: #1967D2;\n",
              "      height: 32px;\n",
              "      padding: 0 0 0 0;\n",
              "      width: 32px;\n",
              "    }\n",
              "\n",
              "    .colab-df-convert:hover {\n",
              "      background-color: #E2EBFA;\n",
              "      box-shadow: 0px 1px 2px rgba(60, 64, 67, 0.3), 0px 1px 3px 1px rgba(60, 64, 67, 0.15);\n",
              "      fill: #174EA6;\n",
              "    }\n",
              "\n",
              "    [theme=dark] .colab-df-convert {\n",
              "      background-color: #3B4455;\n",
              "      fill: #D2E3FC;\n",
              "    }\n",
              "\n",
              "    [theme=dark] .colab-df-convert:hover {\n",
              "      background-color: #434B5C;\n",
              "      box-shadow: 0px 1px 3px 1px rgba(0, 0, 0, 0.15);\n",
              "      filter: drop-shadow(0px 1px 2px rgba(0, 0, 0, 0.3));\n",
              "      fill: #FFFFFF;\n",
              "    }\n",
              "  </style>\n",
              "\n",
              "      <script>\n",
              "        const buttonEl =\n",
              "          document.querySelector('#df-9e7949c1-b842-40ff-a947-d09c6866c102 button.colab-df-convert');\n",
              "        buttonEl.style.display =\n",
              "          google.colab.kernel.accessAllowed ? 'block' : 'none';\n",
              "\n",
              "        async function convertToInteractive(key) {\n",
              "          const element = document.querySelector('#df-9e7949c1-b842-40ff-a947-d09c6866c102');\n",
              "          const dataTable =\n",
              "            await google.colab.kernel.invokeFunction('convertToInteractive',\n",
              "                                                     [key], {});\n",
              "          if (!dataTable) return;\n",
              "\n",
              "          const docLinkHtml = 'Like what you see? Visit the ' +\n",
              "            '<a target=\"_blank\" href=https://colab.research.google.com/notebooks/data_table.ipynb>data table notebook</a>'\n",
              "            + ' to learn more about interactive tables.';\n",
              "          element.innerHTML = '';\n",
              "          dataTable['output_type'] = 'display_data';\n",
              "          await google.colab.output.renderOutput(dataTable, element);\n",
              "          const docLink = document.createElement('div');\n",
              "          docLink.innerHTML = docLinkHtml;\n",
              "          element.appendChild(docLink);\n",
              "        }\n",
              "      </script>\n",
              "    </div>\n",
              "  </div>\n",
              "  "
            ]
          },
          "metadata": {},
          "execution_count": 20
        }
      ],
      "source": [
        "df['Mileage'] = df['Mileage'].str.extract('(\\d+)').astype(int)\n",
        "df['Engine'] = df['Engine'].str.extract('(\\d+)').astype(int)\n",
        "df['Power'] = df['Power'].str.extract('(\\d+)').astype(float)\n",
        "df.head()"
      ]
    },
    {
      "cell_type": "markdown",
      "source": [
        "### Encoding different variables"
      ],
      "metadata": {
        "id": "eQd-faVNw-nQ"
      },
      "id": "eQd-faVNw-nQ"
    },
    {
      "cell_type": "code",
      "execution_count": null,
      "id": "61f5a45c",
      "metadata": {
        "colab": {
          "base_uri": "https://localhost:8080/",
          "height": 206
        },
        "id": "61f5a45c",
        "outputId": "497173fd-3e84-4021-f671-4c51291b7dbe"
      },
      "outputs": [
        {
          "output_type": "execute_result",
          "data": {
            "text/plain": [
              "                               Name  Location  Year  Kilometers_Driven  \\\n",
              "0            Maruti Wagon R LXI CNG         9  2010              72000   \n",
              "1  Hyundai Creta 1.6 CRDi SX Option        10  2015              41000   \n",
              "2                      Honda Jazz V         2  2011              46000   \n",
              "3                 Maruti Ertiga VDI         2  2012              87000   \n",
              "4   Audi A4 New 2.0 TDI Multitronic         3  2013              40670   \n",
              "\n",
              "   Fuel_Type  Transmission  Owner_Type  Mileage  Engine  Power  Seats  Price  \n",
              "0          0             1           0       26     998   58.0    5.0     45  \n",
              "1          1             1           0       19    1582  126.0    5.0    628  \n",
              "2          3             1           0       18    1199   88.0    5.0    219  \n",
              "3          1             1           0       20    1248   88.0    7.0    321  \n",
              "4          1             0           2       15    1968  140.0    5.0    719  "
            ],
            "text/html": [
              "\n",
              "  <div id=\"df-983b86a4-4ea1-490a-a4f6-3642b15c3d20\">\n",
              "    <div class=\"colab-df-container\">\n",
              "      <div>\n",
              "<style scoped>\n",
              "    .dataframe tbody tr th:only-of-type {\n",
              "        vertical-align: middle;\n",
              "    }\n",
              "\n",
              "    .dataframe tbody tr th {\n",
              "        vertical-align: top;\n",
              "    }\n",
              "\n",
              "    .dataframe thead th {\n",
              "        text-align: right;\n",
              "    }\n",
              "</style>\n",
              "<table border=\"1\" class=\"dataframe\">\n",
              "  <thead>\n",
              "    <tr style=\"text-align: right;\">\n",
              "      <th></th>\n",
              "      <th>Name</th>\n",
              "      <th>Location</th>\n",
              "      <th>Year</th>\n",
              "      <th>Kilometers_Driven</th>\n",
              "      <th>Fuel_Type</th>\n",
              "      <th>Transmission</th>\n",
              "      <th>Owner_Type</th>\n",
              "      <th>Mileage</th>\n",
              "      <th>Engine</th>\n",
              "      <th>Power</th>\n",
              "      <th>Seats</th>\n",
              "      <th>Price</th>\n",
              "    </tr>\n",
              "  </thead>\n",
              "  <tbody>\n",
              "    <tr>\n",
              "      <th>0</th>\n",
              "      <td>Maruti Wagon R LXI CNG</td>\n",
              "      <td>9</td>\n",
              "      <td>2010</td>\n",
              "      <td>72000</td>\n",
              "      <td>0</td>\n",
              "      <td>1</td>\n",
              "      <td>0</td>\n",
              "      <td>26</td>\n",
              "      <td>998</td>\n",
              "      <td>58.0</td>\n",
              "      <td>5.0</td>\n",
              "      <td>45</td>\n",
              "    </tr>\n",
              "    <tr>\n",
              "      <th>1</th>\n",
              "      <td>Hyundai Creta 1.6 CRDi SX Option</td>\n",
              "      <td>10</td>\n",
              "      <td>2015</td>\n",
              "      <td>41000</td>\n",
              "      <td>1</td>\n",
              "      <td>1</td>\n",
              "      <td>0</td>\n",
              "      <td>19</td>\n",
              "      <td>1582</td>\n",
              "      <td>126.0</td>\n",
              "      <td>5.0</td>\n",
              "      <td>628</td>\n",
              "    </tr>\n",
              "    <tr>\n",
              "      <th>2</th>\n",
              "      <td>Honda Jazz V</td>\n",
              "      <td>2</td>\n",
              "      <td>2011</td>\n",
              "      <td>46000</td>\n",
              "      <td>3</td>\n",
              "      <td>1</td>\n",
              "      <td>0</td>\n",
              "      <td>18</td>\n",
              "      <td>1199</td>\n",
              "      <td>88.0</td>\n",
              "      <td>5.0</td>\n",
              "      <td>219</td>\n",
              "    </tr>\n",
              "    <tr>\n",
              "      <th>3</th>\n",
              "      <td>Maruti Ertiga VDI</td>\n",
              "      <td>2</td>\n",
              "      <td>2012</td>\n",
              "      <td>87000</td>\n",
              "      <td>1</td>\n",
              "      <td>1</td>\n",
              "      <td>0</td>\n",
              "      <td>20</td>\n",
              "      <td>1248</td>\n",
              "      <td>88.0</td>\n",
              "      <td>7.0</td>\n",
              "      <td>321</td>\n",
              "    </tr>\n",
              "    <tr>\n",
              "      <th>4</th>\n",
              "      <td>Audi A4 New 2.0 TDI Multitronic</td>\n",
              "      <td>3</td>\n",
              "      <td>2013</td>\n",
              "      <td>40670</td>\n",
              "      <td>1</td>\n",
              "      <td>0</td>\n",
              "      <td>2</td>\n",
              "      <td>15</td>\n",
              "      <td>1968</td>\n",
              "      <td>140.0</td>\n",
              "      <td>5.0</td>\n",
              "      <td>719</td>\n",
              "    </tr>\n",
              "  </tbody>\n",
              "</table>\n",
              "</div>\n",
              "      <button class=\"colab-df-convert\" onclick=\"convertToInteractive('df-983b86a4-4ea1-490a-a4f6-3642b15c3d20')\"\n",
              "              title=\"Convert this dataframe to an interactive table.\"\n",
              "              style=\"display:none;\">\n",
              "        \n",
              "  <svg xmlns=\"http://www.w3.org/2000/svg\" height=\"24px\"viewBox=\"0 0 24 24\"\n",
              "       width=\"24px\">\n",
              "    <path d=\"M0 0h24v24H0V0z\" fill=\"none\"/>\n",
              "    <path d=\"M18.56 5.44l.94 2.06.94-2.06 2.06-.94-2.06-.94-.94-2.06-.94 2.06-2.06.94zm-11 1L8.5 8.5l.94-2.06 2.06-.94-2.06-.94L8.5 2.5l-.94 2.06-2.06.94zm10 10l.94 2.06.94-2.06 2.06-.94-2.06-.94-.94-2.06-.94 2.06-2.06.94z\"/><path d=\"M17.41 7.96l-1.37-1.37c-.4-.4-.92-.59-1.43-.59-.52 0-1.04.2-1.43.59L10.3 9.45l-7.72 7.72c-.78.78-.78 2.05 0 2.83L4 21.41c.39.39.9.59 1.41.59.51 0 1.02-.2 1.41-.59l7.78-7.78 2.81-2.81c.8-.78.8-2.07 0-2.86zM5.41 20L4 18.59l7.72-7.72 1.47 1.35L5.41 20z\"/>\n",
              "  </svg>\n",
              "      </button>\n",
              "      \n",
              "  <style>\n",
              "    .colab-df-container {\n",
              "      display:flex;\n",
              "      flex-wrap:wrap;\n",
              "      gap: 12px;\n",
              "    }\n",
              "\n",
              "    .colab-df-convert {\n",
              "      background-color: #E8F0FE;\n",
              "      border: none;\n",
              "      border-radius: 50%;\n",
              "      cursor: pointer;\n",
              "      display: none;\n",
              "      fill: #1967D2;\n",
              "      height: 32px;\n",
              "      padding: 0 0 0 0;\n",
              "      width: 32px;\n",
              "    }\n",
              "\n",
              "    .colab-df-convert:hover {\n",
              "      background-color: #E2EBFA;\n",
              "      box-shadow: 0px 1px 2px rgba(60, 64, 67, 0.3), 0px 1px 3px 1px rgba(60, 64, 67, 0.15);\n",
              "      fill: #174EA6;\n",
              "    }\n",
              "\n",
              "    [theme=dark] .colab-df-convert {\n",
              "      background-color: #3B4455;\n",
              "      fill: #D2E3FC;\n",
              "    }\n",
              "\n",
              "    [theme=dark] .colab-df-convert:hover {\n",
              "      background-color: #434B5C;\n",
              "      box-shadow: 0px 1px 3px 1px rgba(0, 0, 0, 0.15);\n",
              "      filter: drop-shadow(0px 1px 2px rgba(0, 0, 0, 0.3));\n",
              "      fill: #FFFFFF;\n",
              "    }\n",
              "  </style>\n",
              "\n",
              "      <script>\n",
              "        const buttonEl =\n",
              "          document.querySelector('#df-983b86a4-4ea1-490a-a4f6-3642b15c3d20 button.colab-df-convert');\n",
              "        buttonEl.style.display =\n",
              "          google.colab.kernel.accessAllowed ? 'block' : 'none';\n",
              "\n",
              "        async function convertToInteractive(key) {\n",
              "          const element = document.querySelector('#df-983b86a4-4ea1-490a-a4f6-3642b15c3d20');\n",
              "          const dataTable =\n",
              "            await google.colab.kernel.invokeFunction('convertToInteractive',\n",
              "                                                     [key], {});\n",
              "          if (!dataTable) return;\n",
              "\n",
              "          const docLinkHtml = 'Like what you see? Visit the ' +\n",
              "            '<a target=\"_blank\" href=https://colab.research.google.com/notebooks/data_table.ipynb>data table notebook</a>'\n",
              "            + ' to learn more about interactive tables.';\n",
              "          element.innerHTML = '';\n",
              "          dataTable['output_type'] = 'display_data';\n",
              "          await google.colab.output.renderOutput(dataTable, element);\n",
              "          const docLink = document.createElement('div');\n",
              "          docLink.innerHTML = docLinkHtml;\n",
              "          element.appendChild(docLink);\n",
              "        }\n",
              "      </script>\n",
              "    </div>\n",
              "  </div>\n",
              "  "
            ]
          },
          "metadata": {},
          "execution_count": 21
        }
      ],
      "source": [
        "from sklearn.preprocessing import LabelEncoder\n",
        "encoder = LabelEncoder()\n",
        "df['Location']=encoder.fit_transform(df['Location'])\n",
        "df['Fuel_Type']=encoder.fit_transform(df['Fuel_Type'])\n",
        "df['Transmission']=encoder.fit_transform(df['Transmission'])\n",
        "df['Owner_Type']=encoder.fit_transform(df['Owner_Type'])\n",
        "df['Price']=encoder.fit_transform(df['Price'])\n",
        "df.head()"
      ]
    },
    {
      "cell_type": "markdown",
      "source": [
        "#### Filling null values of Engine and Power"
      ],
      "metadata": {
        "id": "t5PvMIFCxKHf"
      },
      "id": "t5PvMIFCxKHf"
    },
    {
      "cell_type": "code",
      "execution_count": null,
      "id": "10c018b7",
      "metadata": {
        "colab": {
          "base_uri": "https://localhost:8080/"
        },
        "id": "10c018b7",
        "outputId": "cf6382c6-22e3-4c41-b3a1-9bb414f3b104"
      },
      "outputs": [
        {
          "output_type": "stream",
          "name": "stdout",
          "text": [
            "<class 'pandas.core.frame.DataFrame'>\n",
            "RangeIndex: 3499 entries, 0 to 3498\n",
            "Data columns (total 12 columns):\n",
            " #   Column             Non-Null Count  Dtype  \n",
            "---  ------             --------------  -----  \n",
            " 0   Name               3499 non-null   object \n",
            " 1   Location           3499 non-null   int64  \n",
            " 2   Year               3499 non-null   int64  \n",
            " 3   Kilometers_Driven  3499 non-null   int64  \n",
            " 4   Fuel_Type          3499 non-null   int64  \n",
            " 5   Transmission       3499 non-null   int64  \n",
            " 6   Owner_Type         3499 non-null   int64  \n",
            " 7   Mileage            3499 non-null   int64  \n",
            " 8   Engine             3499 non-null   int64  \n",
            " 9   Power              3434 non-null   float64\n",
            " 10  Seats              3499 non-null   float64\n",
            " 11  Price              3499 non-null   int64  \n",
            "dtypes: float64(2), int64(9), object(1)\n",
            "memory usage: 328.2+ KB\n"
          ]
        }
      ],
      "source": [
        "mean_engine = int(df['Engine'].mean())\n",
        "mean_power = int(df['Power'].mean())\n",
        "\n",
        "df['Engine'].replace(0, mean_engine, inplace=True)\n",
        "df['Power'].replace(0, mean_power, inplace=True)\n",
        "df.info()"
      ]
    },
    {
      "cell_type": "code",
      "execution_count": null,
      "id": "c9fd43b2",
      "metadata": {
        "colab": {
          "base_uri": "https://localhost:8080/"
        },
        "id": "c9fd43b2",
        "outputId": "baa69dc1-73e3-42d4-b883-0c815102be05"
      },
      "outputs": [
        {
          "output_type": "stream",
          "name": "stdout",
          "text": [
            "<class 'pandas.core.frame.DataFrame'>\n",
            "RangeIndex: 3499 entries, 0 to 3498\n",
            "Data columns (total 12 columns):\n",
            " #   Column             Non-Null Count  Dtype  \n",
            "---  ------             --------------  -----  \n",
            " 0   Name               3499 non-null   object \n",
            " 1   Location           3499 non-null   int64  \n",
            " 2   Year               3499 non-null   int64  \n",
            " 3   Kilometers_Driven  3499 non-null   int64  \n",
            " 4   Fuel_Type          3499 non-null   int64  \n",
            " 5   Transmission       3499 non-null   int64  \n",
            " 6   Owner_Type         3499 non-null   int64  \n",
            " 7   Mileage            3499 non-null   int64  \n",
            " 8   Engine             3499 non-null   int64  \n",
            " 9   Power              3499 non-null   float64\n",
            " 10  Seats              3499 non-null   float64\n",
            " 11  Price              3499 non-null   int64  \n",
            "dtypes: float64(2), int64(9), object(1)\n",
            "memory usage: 328.2+ KB\n"
          ]
        }
      ],
      "source": [
        "df['Power'].fillna(df['Power'].mean(), inplace=True)\n",
        "df.info() "
      ]
    },
    {
      "cell_type": "markdown",
      "source": [
        "# Data Engineering (Replacing Year with the Car Age)"
      ],
      "metadata": {
        "id": "15hW84qDxRe_"
      },
      "id": "15hW84qDxRe_"
    },
    {
      "cell_type": "code",
      "execution_count": null,
      "id": "c3783ce8",
      "metadata": {
        "colab": {
          "base_uri": "https://localhost:8080/"
        },
        "id": "c3783ce8",
        "outputId": "3dbf37c6-cae8-4a58-a259-231defd4b502"
      },
      "outputs": [
        {
          "output_type": "execute_result",
          "data": {
            "text/plain": [
              "Index(['Name', 'Location', 'Car_age', 'Kilometers_Driven', 'Fuel_Type',\n",
              "       'Transmission', 'Owner_Type', 'Mileage', 'Engine', 'Power', 'Seats',\n",
              "       'Price'],\n",
              "      dtype='object')"
            ]
          },
          "metadata": {},
          "execution_count": 25
        }
      ],
      "source": [
        "df.rename(columns = {'Year':'Car_age'}, inplace = True)\n",
        "df.columns"
      ]
    },
    {
      "cell_type": "code",
      "execution_count": null,
      "id": "1ceb5666",
      "metadata": {
        "colab": {
          "base_uri": "https://localhost:8080/",
          "height": 206
        },
        "id": "1ceb5666",
        "outputId": "72e40b7c-ebde-4f4a-a5cb-32f3258baa49"
      },
      "outputs": [
        {
          "output_type": "execute_result",
          "data": {
            "text/plain": [
              "                               Name  Location  Car_age  Kilometers_Driven  \\\n",
              "0            Maruti Wagon R LXI CNG         9       13              72000   \n",
              "1  Hyundai Creta 1.6 CRDi SX Option        10        8              41000   \n",
              "2                      Honda Jazz V         2       12              46000   \n",
              "3                 Maruti Ertiga VDI         2       11              87000   \n",
              "4   Audi A4 New 2.0 TDI Multitronic         3       10              40670   \n",
              "\n",
              "   Fuel_Type  Transmission  Owner_Type  Mileage  Engine  Power  Seats  Price  \n",
              "0          0             1           0       26     998   58.0    5.0     45  \n",
              "1          1             1           0       19    1582  126.0    5.0    628  \n",
              "2          3             1           0       18    1199   88.0    5.0    219  \n",
              "3          1             1           0       20    1248   88.0    7.0    321  \n",
              "4          1             0           2       15    1968  140.0    5.0    719  "
            ],
            "text/html": [
              "\n",
              "  <div id=\"df-13d06da2-42ad-4293-9210-12c061ec56cb\">\n",
              "    <div class=\"colab-df-container\">\n",
              "      <div>\n",
              "<style scoped>\n",
              "    .dataframe tbody tr th:only-of-type {\n",
              "        vertical-align: middle;\n",
              "    }\n",
              "\n",
              "    .dataframe tbody tr th {\n",
              "        vertical-align: top;\n",
              "    }\n",
              "\n",
              "    .dataframe thead th {\n",
              "        text-align: right;\n",
              "    }\n",
              "</style>\n",
              "<table border=\"1\" class=\"dataframe\">\n",
              "  <thead>\n",
              "    <tr style=\"text-align: right;\">\n",
              "      <th></th>\n",
              "      <th>Name</th>\n",
              "      <th>Location</th>\n",
              "      <th>Car_age</th>\n",
              "      <th>Kilometers_Driven</th>\n",
              "      <th>Fuel_Type</th>\n",
              "      <th>Transmission</th>\n",
              "      <th>Owner_Type</th>\n",
              "      <th>Mileage</th>\n",
              "      <th>Engine</th>\n",
              "      <th>Power</th>\n",
              "      <th>Seats</th>\n",
              "      <th>Price</th>\n",
              "    </tr>\n",
              "  </thead>\n",
              "  <tbody>\n",
              "    <tr>\n",
              "      <th>0</th>\n",
              "      <td>Maruti Wagon R LXI CNG</td>\n",
              "      <td>9</td>\n",
              "      <td>13</td>\n",
              "      <td>72000</td>\n",
              "      <td>0</td>\n",
              "      <td>1</td>\n",
              "      <td>0</td>\n",
              "      <td>26</td>\n",
              "      <td>998</td>\n",
              "      <td>58.0</td>\n",
              "      <td>5.0</td>\n",
              "      <td>45</td>\n",
              "    </tr>\n",
              "    <tr>\n",
              "      <th>1</th>\n",
              "      <td>Hyundai Creta 1.6 CRDi SX Option</td>\n",
              "      <td>10</td>\n",
              "      <td>8</td>\n",
              "      <td>41000</td>\n",
              "      <td>1</td>\n",
              "      <td>1</td>\n",
              "      <td>0</td>\n",
              "      <td>19</td>\n",
              "      <td>1582</td>\n",
              "      <td>126.0</td>\n",
              "      <td>5.0</td>\n",
              "      <td>628</td>\n",
              "    </tr>\n",
              "    <tr>\n",
              "      <th>2</th>\n",
              "      <td>Honda Jazz V</td>\n",
              "      <td>2</td>\n",
              "      <td>12</td>\n",
              "      <td>46000</td>\n",
              "      <td>3</td>\n",
              "      <td>1</td>\n",
              "      <td>0</td>\n",
              "      <td>18</td>\n",
              "      <td>1199</td>\n",
              "      <td>88.0</td>\n",
              "      <td>5.0</td>\n",
              "      <td>219</td>\n",
              "    </tr>\n",
              "    <tr>\n",
              "      <th>3</th>\n",
              "      <td>Maruti Ertiga VDI</td>\n",
              "      <td>2</td>\n",
              "      <td>11</td>\n",
              "      <td>87000</td>\n",
              "      <td>1</td>\n",
              "      <td>1</td>\n",
              "      <td>0</td>\n",
              "      <td>20</td>\n",
              "      <td>1248</td>\n",
              "      <td>88.0</td>\n",
              "      <td>7.0</td>\n",
              "      <td>321</td>\n",
              "    </tr>\n",
              "    <tr>\n",
              "      <th>4</th>\n",
              "      <td>Audi A4 New 2.0 TDI Multitronic</td>\n",
              "      <td>3</td>\n",
              "      <td>10</td>\n",
              "      <td>40670</td>\n",
              "      <td>1</td>\n",
              "      <td>0</td>\n",
              "      <td>2</td>\n",
              "      <td>15</td>\n",
              "      <td>1968</td>\n",
              "      <td>140.0</td>\n",
              "      <td>5.0</td>\n",
              "      <td>719</td>\n",
              "    </tr>\n",
              "  </tbody>\n",
              "</table>\n",
              "</div>\n",
              "      <button class=\"colab-df-convert\" onclick=\"convertToInteractive('df-13d06da2-42ad-4293-9210-12c061ec56cb')\"\n",
              "              title=\"Convert this dataframe to an interactive table.\"\n",
              "              style=\"display:none;\">\n",
              "        \n",
              "  <svg xmlns=\"http://www.w3.org/2000/svg\" height=\"24px\"viewBox=\"0 0 24 24\"\n",
              "       width=\"24px\">\n",
              "    <path d=\"M0 0h24v24H0V0z\" fill=\"none\"/>\n",
              "    <path d=\"M18.56 5.44l.94 2.06.94-2.06 2.06-.94-2.06-.94-.94-2.06-.94 2.06-2.06.94zm-11 1L8.5 8.5l.94-2.06 2.06-.94-2.06-.94L8.5 2.5l-.94 2.06-2.06.94zm10 10l.94 2.06.94-2.06 2.06-.94-2.06-.94-.94-2.06-.94 2.06-2.06.94z\"/><path d=\"M17.41 7.96l-1.37-1.37c-.4-.4-.92-.59-1.43-.59-.52 0-1.04.2-1.43.59L10.3 9.45l-7.72 7.72c-.78.78-.78 2.05 0 2.83L4 21.41c.39.39.9.59 1.41.59.51 0 1.02-.2 1.41-.59l7.78-7.78 2.81-2.81c.8-.78.8-2.07 0-2.86zM5.41 20L4 18.59l7.72-7.72 1.47 1.35L5.41 20z\"/>\n",
              "  </svg>\n",
              "      </button>\n",
              "      \n",
              "  <style>\n",
              "    .colab-df-container {\n",
              "      display:flex;\n",
              "      flex-wrap:wrap;\n",
              "      gap: 12px;\n",
              "    }\n",
              "\n",
              "    .colab-df-convert {\n",
              "      background-color: #E8F0FE;\n",
              "      border: none;\n",
              "      border-radius: 50%;\n",
              "      cursor: pointer;\n",
              "      display: none;\n",
              "      fill: #1967D2;\n",
              "      height: 32px;\n",
              "      padding: 0 0 0 0;\n",
              "      width: 32px;\n",
              "    }\n",
              "\n",
              "    .colab-df-convert:hover {\n",
              "      background-color: #E2EBFA;\n",
              "      box-shadow: 0px 1px 2px rgba(60, 64, 67, 0.3), 0px 1px 3px 1px rgba(60, 64, 67, 0.15);\n",
              "      fill: #174EA6;\n",
              "    }\n",
              "\n",
              "    [theme=dark] .colab-df-convert {\n",
              "      background-color: #3B4455;\n",
              "      fill: #D2E3FC;\n",
              "    }\n",
              "\n",
              "    [theme=dark] .colab-df-convert:hover {\n",
              "      background-color: #434B5C;\n",
              "      box-shadow: 0px 1px 3px 1px rgba(0, 0, 0, 0.15);\n",
              "      filter: drop-shadow(0px 1px 2px rgba(0, 0, 0, 0.3));\n",
              "      fill: #FFFFFF;\n",
              "    }\n",
              "  </style>\n",
              "\n",
              "      <script>\n",
              "        const buttonEl =\n",
              "          document.querySelector('#df-13d06da2-42ad-4293-9210-12c061ec56cb button.colab-df-convert');\n",
              "        buttonEl.style.display =\n",
              "          google.colab.kernel.accessAllowed ? 'block' : 'none';\n",
              "\n",
              "        async function convertToInteractive(key) {\n",
              "          const element = document.querySelector('#df-13d06da2-42ad-4293-9210-12c061ec56cb');\n",
              "          const dataTable =\n",
              "            await google.colab.kernel.invokeFunction('convertToInteractive',\n",
              "                                                     [key], {});\n",
              "          if (!dataTable) return;\n",
              "\n",
              "          const docLinkHtml = 'Like what you see? Visit the ' +\n",
              "            '<a target=\"_blank\" href=https://colab.research.google.com/notebooks/data_table.ipynb>data table notebook</a>'\n",
              "            + ' to learn more about interactive tables.';\n",
              "          element.innerHTML = '';\n",
              "          dataTable['output_type'] = 'display_data';\n",
              "          await google.colab.output.renderOutput(dataTable, element);\n",
              "          const docLink = document.createElement('div');\n",
              "          docLink.innerHTML = docLinkHtml;\n",
              "          element.appendChild(docLink);\n",
              "        }\n",
              "      </script>\n",
              "    </div>\n",
              "  </div>\n",
              "  "
            ]
          },
          "metadata": {},
          "execution_count": 26
        }
      ],
      "source": [
        "df['Car_age'] = 2023 - df['Car_age']\n",
        "df.head()"
      ]
    },
    {
      "cell_type": "markdown",
      "source": [
        "### Using Standard Scaler to scale the data"
      ],
      "metadata": {
        "id": "pVMnr5g6xcTR"
      },
      "id": "pVMnr5g6xcTR"
    },
    {
      "cell_type": "code",
      "execution_count": null,
      "id": "5154eed4",
      "metadata": {
        "id": "5154eed4"
      },
      "outputs": [],
      "source": [
        "from sklearn.preprocessing import StandardScaler\n",
        "sc = StandardScaler()\n",
        "df[['Location','Car_age','Kilometers_Driven','Mileage','Engine','Power','Seats', 'Price']] = sc.fit_transform(df[['Location','Car_age','Kilometers_Driven','Mileage','Engine','Power','Seats', 'Price']])"
      ]
    },
    {
      "cell_type": "code",
      "execution_count": null,
      "id": "b8fcec7e",
      "metadata": {
        "colab": {
          "base_uri": "https://localhost:8080/",
          "height": 302
        },
        "id": "b8fcec7e",
        "outputId": "1cee1c5b-32ba-4a3d-85d4-5944d9d8ab49"
      },
      "outputs": [
        {
          "output_type": "execute_result",
          "data": {
            "text/plain": [
              "                               Name  Location   Car_age  Kilometers_Driven  \\\n",
              "0            Maruti Wagon R LXI CNG  1.132100  1.046761           0.105165   \n",
              "1  Hyundai Creta 1.6 CRDi SX Option  1.470405 -0.504538          -0.161931   \n",
              "2                      Honda Jazz V -1.236037  0.736501          -0.118851   \n",
              "3                 Maruti Ertiga VDI -1.236037  0.426241           0.234406   \n",
              "4   Audi A4 New 2.0 TDI Multitronic -0.897732  0.115982          -0.164775   \n",
              "\n",
              "   Fuel_Type  Transmission  Owner_Type   Mileage    Engine     Power  \\\n",
              "0          0             1           0  1.814552 -1.061995 -1.051354   \n",
              "1          1             1           0  0.291408 -0.068338  0.243818   \n",
              "2          3             1           0  0.073816 -0.720000 -0.479954   \n",
              "3          1             1           0  0.509000 -0.636628 -0.479954   \n",
              "4          1             0           2 -0.578960  0.588428  0.510471   \n",
              "\n",
              "      Seats     Price  \n",
              "0 -0.354464 -1.202406  \n",
              "1 -0.354464  0.972743  \n",
              "2 -0.354464 -0.553219  \n",
              "3  2.079151 -0.172662  \n",
              "4 -0.354464  1.312260  "
            ],
            "text/html": [
              "\n",
              "  <div id=\"df-6437e169-aefd-4b07-bc7a-d106d9cd7709\">\n",
              "    <div class=\"colab-df-container\">\n",
              "      <div>\n",
              "<style scoped>\n",
              "    .dataframe tbody tr th:only-of-type {\n",
              "        vertical-align: middle;\n",
              "    }\n",
              "\n",
              "    .dataframe tbody tr th {\n",
              "        vertical-align: top;\n",
              "    }\n",
              "\n",
              "    .dataframe thead th {\n",
              "        text-align: right;\n",
              "    }\n",
              "</style>\n",
              "<table border=\"1\" class=\"dataframe\">\n",
              "  <thead>\n",
              "    <tr style=\"text-align: right;\">\n",
              "      <th></th>\n",
              "      <th>Name</th>\n",
              "      <th>Location</th>\n",
              "      <th>Car_age</th>\n",
              "      <th>Kilometers_Driven</th>\n",
              "      <th>Fuel_Type</th>\n",
              "      <th>Transmission</th>\n",
              "      <th>Owner_Type</th>\n",
              "      <th>Mileage</th>\n",
              "      <th>Engine</th>\n",
              "      <th>Power</th>\n",
              "      <th>Seats</th>\n",
              "      <th>Price</th>\n",
              "    </tr>\n",
              "  </thead>\n",
              "  <tbody>\n",
              "    <tr>\n",
              "      <th>0</th>\n",
              "      <td>Maruti Wagon R LXI CNG</td>\n",
              "      <td>1.132100</td>\n",
              "      <td>1.046761</td>\n",
              "      <td>0.105165</td>\n",
              "      <td>0</td>\n",
              "      <td>1</td>\n",
              "      <td>0</td>\n",
              "      <td>1.814552</td>\n",
              "      <td>-1.061995</td>\n",
              "      <td>-1.051354</td>\n",
              "      <td>-0.354464</td>\n",
              "      <td>-1.202406</td>\n",
              "    </tr>\n",
              "    <tr>\n",
              "      <th>1</th>\n",
              "      <td>Hyundai Creta 1.6 CRDi SX Option</td>\n",
              "      <td>1.470405</td>\n",
              "      <td>-0.504538</td>\n",
              "      <td>-0.161931</td>\n",
              "      <td>1</td>\n",
              "      <td>1</td>\n",
              "      <td>0</td>\n",
              "      <td>0.291408</td>\n",
              "      <td>-0.068338</td>\n",
              "      <td>0.243818</td>\n",
              "      <td>-0.354464</td>\n",
              "      <td>0.972743</td>\n",
              "    </tr>\n",
              "    <tr>\n",
              "      <th>2</th>\n",
              "      <td>Honda Jazz V</td>\n",
              "      <td>-1.236037</td>\n",
              "      <td>0.736501</td>\n",
              "      <td>-0.118851</td>\n",
              "      <td>3</td>\n",
              "      <td>1</td>\n",
              "      <td>0</td>\n",
              "      <td>0.073816</td>\n",
              "      <td>-0.720000</td>\n",
              "      <td>-0.479954</td>\n",
              "      <td>-0.354464</td>\n",
              "      <td>-0.553219</td>\n",
              "    </tr>\n",
              "    <tr>\n",
              "      <th>3</th>\n",
              "      <td>Maruti Ertiga VDI</td>\n",
              "      <td>-1.236037</td>\n",
              "      <td>0.426241</td>\n",
              "      <td>0.234406</td>\n",
              "      <td>1</td>\n",
              "      <td>1</td>\n",
              "      <td>0</td>\n",
              "      <td>0.509000</td>\n",
              "      <td>-0.636628</td>\n",
              "      <td>-0.479954</td>\n",
              "      <td>2.079151</td>\n",
              "      <td>-0.172662</td>\n",
              "    </tr>\n",
              "    <tr>\n",
              "      <th>4</th>\n",
              "      <td>Audi A4 New 2.0 TDI Multitronic</td>\n",
              "      <td>-0.897732</td>\n",
              "      <td>0.115982</td>\n",
              "      <td>-0.164775</td>\n",
              "      <td>1</td>\n",
              "      <td>0</td>\n",
              "      <td>2</td>\n",
              "      <td>-0.578960</td>\n",
              "      <td>0.588428</td>\n",
              "      <td>0.510471</td>\n",
              "      <td>-0.354464</td>\n",
              "      <td>1.312260</td>\n",
              "    </tr>\n",
              "  </tbody>\n",
              "</table>\n",
              "</div>\n",
              "      <button class=\"colab-df-convert\" onclick=\"convertToInteractive('df-6437e169-aefd-4b07-bc7a-d106d9cd7709')\"\n",
              "              title=\"Convert this dataframe to an interactive table.\"\n",
              "              style=\"display:none;\">\n",
              "        \n",
              "  <svg xmlns=\"http://www.w3.org/2000/svg\" height=\"24px\"viewBox=\"0 0 24 24\"\n",
              "       width=\"24px\">\n",
              "    <path d=\"M0 0h24v24H0V0z\" fill=\"none\"/>\n",
              "    <path d=\"M18.56 5.44l.94 2.06.94-2.06 2.06-.94-2.06-.94-.94-2.06-.94 2.06-2.06.94zm-11 1L8.5 8.5l.94-2.06 2.06-.94-2.06-.94L8.5 2.5l-.94 2.06-2.06.94zm10 10l.94 2.06.94-2.06 2.06-.94-2.06-.94-.94-2.06-.94 2.06-2.06.94z\"/><path d=\"M17.41 7.96l-1.37-1.37c-.4-.4-.92-.59-1.43-.59-.52 0-1.04.2-1.43.59L10.3 9.45l-7.72 7.72c-.78.78-.78 2.05 0 2.83L4 21.41c.39.39.9.59 1.41.59.51 0 1.02-.2 1.41-.59l7.78-7.78 2.81-2.81c.8-.78.8-2.07 0-2.86zM5.41 20L4 18.59l7.72-7.72 1.47 1.35L5.41 20z\"/>\n",
              "  </svg>\n",
              "      </button>\n",
              "      \n",
              "  <style>\n",
              "    .colab-df-container {\n",
              "      display:flex;\n",
              "      flex-wrap:wrap;\n",
              "      gap: 12px;\n",
              "    }\n",
              "\n",
              "    .colab-df-convert {\n",
              "      background-color: #E8F0FE;\n",
              "      border: none;\n",
              "      border-radius: 50%;\n",
              "      cursor: pointer;\n",
              "      display: none;\n",
              "      fill: #1967D2;\n",
              "      height: 32px;\n",
              "      padding: 0 0 0 0;\n",
              "      width: 32px;\n",
              "    }\n",
              "\n",
              "    .colab-df-convert:hover {\n",
              "      background-color: #E2EBFA;\n",
              "      box-shadow: 0px 1px 2px rgba(60, 64, 67, 0.3), 0px 1px 3px 1px rgba(60, 64, 67, 0.15);\n",
              "      fill: #174EA6;\n",
              "    }\n",
              "\n",
              "    [theme=dark] .colab-df-convert {\n",
              "      background-color: #3B4455;\n",
              "      fill: #D2E3FC;\n",
              "    }\n",
              "\n",
              "    [theme=dark] .colab-df-convert:hover {\n",
              "      background-color: #434B5C;\n",
              "      box-shadow: 0px 1px 3px 1px rgba(0, 0, 0, 0.15);\n",
              "      filter: drop-shadow(0px 1px 2px rgba(0, 0, 0, 0.3));\n",
              "      fill: #FFFFFF;\n",
              "    }\n",
              "  </style>\n",
              "\n",
              "      <script>\n",
              "        const buttonEl =\n",
              "          document.querySelector('#df-6437e169-aefd-4b07-bc7a-d106d9cd7709 button.colab-df-convert');\n",
              "        buttonEl.style.display =\n",
              "          google.colab.kernel.accessAllowed ? 'block' : 'none';\n",
              "\n",
              "        async function convertToInteractive(key) {\n",
              "          const element = document.querySelector('#df-6437e169-aefd-4b07-bc7a-d106d9cd7709');\n",
              "          const dataTable =\n",
              "            await google.colab.kernel.invokeFunction('convertToInteractive',\n",
              "                                                     [key], {});\n",
              "          if (!dataTable) return;\n",
              "\n",
              "          const docLinkHtml = 'Like what you see? Visit the ' +\n",
              "            '<a target=\"_blank\" href=https://colab.research.google.com/notebooks/data_table.ipynb>data table notebook</a>'\n",
              "            + ' to learn more about interactive tables.';\n",
              "          element.innerHTML = '';\n",
              "          dataTable['output_type'] = 'display_data';\n",
              "          await google.colab.output.renderOutput(dataTable, element);\n",
              "          const docLink = document.createElement('div');\n",
              "          docLink.innerHTML = docLinkHtml;\n",
              "          element.appendChild(docLink);\n",
              "        }\n",
              "      </script>\n",
              "    </div>\n",
              "  </div>\n",
              "  "
            ]
          },
          "metadata": {},
          "execution_count": 28
        }
      ],
      "source": [
        "df.head()"
      ]
    },
    {
      "cell_type": "markdown",
      "source": [
        "### Creating Target and Variable from Data"
      ],
      "metadata": {
        "id": "wghQXycqxsZb"
      },
      "id": "wghQXycqxsZb"
    },
    {
      "cell_type": "code",
      "execution_count": null,
      "id": "b0797378",
      "metadata": {
        "id": "b0797378"
      },
      "outputs": [],
      "source": [
        "X=df.drop(['Price', 'Name'],axis=1)\n",
        "y=df['Price'].astype(int)"
      ]
    },
    {
      "cell_type": "code",
      "execution_count": null,
      "id": "0340ec1c",
      "metadata": {
        "colab": {
          "base_uri": "https://localhost:8080/"
        },
        "id": "0340ec1c",
        "outputId": "c1ff2cb4-7672-4286-dbfb-60b79d7c5e47"
      },
      "outputs": [
        {
          "output_type": "stream",
          "name": "stdout",
          "text": [
            "<class 'pandas.core.frame.DataFrame'>\n",
            "RangeIndex: 3499 entries, 0 to 3498\n",
            "Data columns (total 10 columns):\n",
            " #   Column             Non-Null Count  Dtype  \n",
            "---  ------             --------------  -----  \n",
            " 0   Location           3499 non-null   float64\n",
            " 1   Car_age            3499 non-null   float64\n",
            " 2   Kilometers_Driven  3499 non-null   float64\n",
            " 3   Fuel_Type          3499 non-null   int64  \n",
            " 4   Transmission       3499 non-null   int64  \n",
            " 5   Owner_Type         3499 non-null   int64  \n",
            " 6   Mileage            3499 non-null   float64\n",
            " 7   Engine             3499 non-null   float64\n",
            " 8   Power              3499 non-null   float64\n",
            " 9   Seats              3499 non-null   float64\n",
            "dtypes: float64(7), int64(3)\n",
            "memory usage: 273.5 KB\n"
          ]
        }
      ],
      "source": [
        "X.info()"
      ]
    },
    {
      "cell_type": "code",
      "execution_count": null,
      "id": "c4166441",
      "metadata": {
        "id": "c4166441"
      },
      "outputs": [],
      "source": [
        "X['Fuel_Type']=X['Fuel_Type'].astype(float)\n",
        "X['Transmission']=X['Transmission'].astype(float)\n",
        "X['Owner_Type']=X['Owner_Type'].astype(float)"
      ]
    },
    {
      "cell_type": "code",
      "execution_count": null,
      "id": "25768d4c",
      "metadata": {
        "colab": {
          "base_uri": "https://localhost:8080/"
        },
        "id": "25768d4c",
        "outputId": "35548983-ec3c-40f5-a371-67d90ac726f5"
      },
      "outputs": [
        {
          "output_type": "stream",
          "name": "stdout",
          "text": [
            "<class 'pandas.core.frame.DataFrame'>\n",
            "RangeIndex: 3499 entries, 0 to 3498\n",
            "Data columns (total 10 columns):\n",
            " #   Column             Non-Null Count  Dtype  \n",
            "---  ------             --------------  -----  \n",
            " 0   Location           3499 non-null   float64\n",
            " 1   Car_age            3499 non-null   float64\n",
            " 2   Kilometers_Driven  3499 non-null   float64\n",
            " 3   Fuel_Type          3499 non-null   float64\n",
            " 4   Transmission       3499 non-null   float64\n",
            " 5   Owner_Type         3499 non-null   float64\n",
            " 6   Mileage            3499 non-null   float64\n",
            " 7   Engine             3499 non-null   float64\n",
            " 8   Power              3499 non-null   float64\n",
            " 9   Seats              3499 non-null   float64\n",
            "dtypes: float64(10)\n",
            "memory usage: 273.5 KB\n"
          ]
        }
      ],
      "source": [
        "X.info()"
      ]
    },
    {
      "cell_type": "code",
      "execution_count": null,
      "id": "86d5859b",
      "metadata": {
        "id": "86d5859b"
      },
      "outputs": [],
      "source": [
        "for i in X.columns:\n",
        "    X[i]=X[i].astype(int)"
      ]
    },
    {
      "cell_type": "code",
      "execution_count": null,
      "id": "8ee7a564",
      "metadata": {
        "colab": {
          "base_uri": "https://localhost:8080/"
        },
        "id": "8ee7a564",
        "outputId": "fdea631a-e9af-4efb-8254-12243c85a4ac"
      },
      "outputs": [
        {
          "output_type": "stream",
          "name": "stdout",
          "text": [
            "<class 'pandas.core.frame.DataFrame'>\n",
            "RangeIndex: 3499 entries, 0 to 3498\n",
            "Data columns (total 10 columns):\n",
            " #   Column             Non-Null Count  Dtype\n",
            "---  ------             --------------  -----\n",
            " 0   Location           3499 non-null   int64\n",
            " 1   Car_age            3499 non-null   int64\n",
            " 2   Kilometers_Driven  3499 non-null   int64\n",
            " 3   Fuel_Type          3499 non-null   int64\n",
            " 4   Transmission       3499 non-null   int64\n",
            " 5   Owner_Type         3499 non-null   int64\n",
            " 6   Mileage            3499 non-null   int64\n",
            " 7   Engine             3499 non-null   int64\n",
            " 8   Power              3499 non-null   int64\n",
            " 9   Seats              3499 non-null   int64\n",
            "dtypes: int64(10)\n",
            "memory usage: 273.5 KB\n"
          ]
        }
      ],
      "source": [
        "X.info()"
      ]
    },
    {
      "cell_type": "markdown",
      "source": [
        "### OverSampling the Data"
      ],
      "metadata": {
        "id": "HXgOQh0HyEj2"
      },
      "id": "HXgOQh0HyEj2"
    },
    {
      "cell_type": "code",
      "execution_count": null,
      "id": "3e53c115",
      "metadata": {
        "id": "3e53c115"
      },
      "outputs": [],
      "source": [
        "from imblearn.over_sampling import RandomOverSampler\n",
        "X_over,y_over=RandomOverSampler().fit_resample(X,y)"
      ]
    },
    {
      "cell_type": "markdown",
      "source": [
        "### Creating Training and Testing Dataset"
      ],
      "metadata": {
        "id": "-5b4bQKpyIvc"
      },
      "id": "-5b4bQKpyIvc"
    },
    {
      "cell_type": "code",
      "execution_count": null,
      "id": "4764b43a",
      "metadata": {
        "colab": {
          "base_uri": "https://localhost:8080/"
        },
        "id": "4764b43a",
        "outputId": "19b0120f-ca8a-4cef-e4f1-3b262f4da59a"
      },
      "outputs": [
        {
          "output_type": "stream",
          "name": "stdout",
          "text": [
            "Train shape : (6762, 10)\n",
            "Test shape: (2254, 10)\n"
          ]
        }
      ],
      "source": [
        "from sklearn.model_selection import train_test_split\n",
        "X_train,X_test,y_train,y_test = train_test_split(X_over,y_over,random_state=42,stratify=y_over)\n",
        "print(f'Train shape : {X_train.shape}\\nTest shape: {X_test.shape}')"
      ]
    },
    {
      "cell_type": "markdown",
      "source": [
        "# Trying Different Model"
      ],
      "metadata": {
        "id": "f28UVDvNyPaU"
      },
      "id": "f28UVDvNyPaU"
    },
    {
      "cell_type": "markdown",
      "source": [
        "### 1. KNeighbors"
      ],
      "metadata": {
        "id": "DJKXgDWkyUN8"
      },
      "id": "DJKXgDWkyUN8"
    },
    {
      "cell_type": "code",
      "execution_count": null,
      "id": "93dda5d6",
      "metadata": {
        "colab": {
          "base_uri": "https://localhost:8080/",
          "height": 465
        },
        "id": "93dda5d6",
        "outputId": "5e31d59e-16ca-4dc3-89b7-b583a20d363b"
      },
      "outputs": [
        {
          "output_type": "display_data",
          "data": {
            "text/plain": [
              "<Figure size 500x500 with 1 Axes>"
            ],
            "image/png": "[encoded data removed]"
          },
          "metadata": {}
        }
      ],
      "source": [
        "from sklearn.svm import SVC\n",
        "from sklearn.model_selection import RandomizedSearchCV\n",
        "from sklearn.neighbors import KNeighborsClassifier\n",
        "from sklearn.linear_model import LogisticRegression\n",
        "from sklearn.ensemble import RandomForestClassifier\n",
        "from sklearn.model_selection import cross_val_score\n",
        "knn_scores=[]\n",
        "for k in range(1,20):\n",
        "    knn=KNeighborsClassifier(n_neighbors=k)\n",
        "    scores=cross_val_score(knn,X_train,y_train,cv=5)\n",
        "    knn_scores.append(scores.mean())\n",
        "\n",
        "x_ticks = [1,2,3,4,5,6,7,8,9,10,11,12,13,14,15,16,17,18,19,20]\n",
        "x_labels = x_ticks\n",
        "\n",
        "plt.figure(figsize=(5,5))\n",
        "plt.plot([k for k in range(1,20)],knn_scores)\n",
        "plt.xticks(ticks=x_ticks, labels=x_labels)\n",
        "plt.grid()"
      ]
    },
    {
      "cell_type": "code",
      "execution_count": null,
      "id": "3404bdfc",
      "metadata": {
        "colab": {
          "base_uri": "https://localhost:8080/",
          "height": 685
        },
        "id": "3404bdfc",
        "outputId": "af7f0eb7-5abb-4657-dbfa-4df5a0f44e05"
      },
      "outputs": [
        {
          "output_type": "stream",
          "name": "stdout",
          "text": [
            "              precision    recall  f1-score   support\n",
            "\n",
            "          -1       0.74      0.92      0.82       564\n",
            "           0       0.80      0.57      0.67       563\n",
            "           1       0.80      0.82      0.81       564\n",
            "           2       0.89      0.89      0.89       563\n",
            "\n",
            "    accuracy                           0.80      2254\n",
            "   macro avg       0.81      0.80      0.80      2254\n",
            "weighted avg       0.81      0.80      0.80      2254\n",
            "\n"
          ]
        },
        {
          "output_type": "display_data",
          "data": {
            "text/plain": [
              "<Figure size 500x500 with 2 Axes>"
            ],
            "image/png": "[encoded data removed]"
          },
          "metadata": {}
        }
      ],
      "source": [
        "knn=KNeighborsClassifier(n_neighbors=10)\n",
        "knn.fit(X_train,y_train)\n",
        "from sklearn.metrics import confusion_matrix\n",
        "confusion_knn=confusion_matrix(y_test,knn.predict(X_test))\n",
        "plt.figure(figsize=(5,5))\n",
        "sns.heatmap(confusion_knn,annot=True)\n",
        "plt.xlabel(\"Predicted\")\n",
        "plt.ylabel(\"Actual\")\n",
        "from sklearn.metrics import classification_report\n",
        "print(classification_report(y_test,knn.predict(X_test)))\n"
      ]
    },
    {
      "cell_type": "markdown",
      "source": [
        "##### 78% Accuracy"
      ],
      "metadata": {
        "id": "zV_HKRtqykVP"
      },
      "id": "zV_HKRtqykVP"
    },
    {
      "cell_type": "markdown",
      "source": [
        "### 2. SVC"
      ],
      "metadata": {
        "id": "-pVlAPbiys3c"
      },
      "id": "-pVlAPbiys3c"
    },
    {
      "cell_type": "code",
      "execution_count": null,
      "id": "4dd01f5b",
      "metadata": {
        "id": "4dd01f5b",
        "outputId": "83158b1f-fbdb-4080-e681-e25bd5dad078",
        "colab": {
          "base_uri": "https://localhost:8080/",
          "height": 739
        }
      },
      "outputs": [
        {
          "output_type": "stream",
          "name": "stdout",
          "text": [
            "              precision    recall  f1-score   support\n",
            "\n",
            "          -1       0.88      0.85      0.86       564\n",
            "           0       0.81      0.80      0.81       563\n",
            "           1       0.83      0.86      0.84       564\n",
            "           2       0.90      0.90      0.90       563\n",
            "\n",
            "    accuracy                           0.85      2254\n",
            "   macro avg       0.85      0.85      0.85      2254\n",
            "weighted avg       0.85      0.85      0.85      2254\n",
            "\n",
            "\n",
            "Best Parameters of SVC model is : {'gamma': 10, 'C': 10}\n",
            "\n"
          ]
        },
        {
          "output_type": "display_data",
          "data": {
            "text/plain": [
              "<Figure size 500x500 with 2 Axes>"
            ],
            "image/png": "[encoded data removed]"
          },
          "metadata": {}
        }
      ],
      "source": [
        "param_grid={'C':[0.001,0.01,0.1,1,10,100], 'gamma':[0.001,0.01,0.1,1,10,100]}\n",
        "rcv=RandomizedSearchCV(SVC(),param_grid,cv=5)\n",
        "rcv.fit(X_train,y_train)\n",
        "y_pred_svc=rcv.predict(X_test)\n",
        "confusion_svc=confusion_matrix(y_test,rcv.predict(X_test))\n",
        "plt.figure(figsize=(5,5))\n",
        "sns.heatmap(confusion_svc,annot=True)\n",
        "plt.xlabel(\"Predicted\")\n",
        "plt.ylabel(\"Actual\")\n",
        "print(classification_report(y_test,y_pred_svc))\n",
        "print(f'\\nBest Parameters of SVC model is : {rcv.best_params_}\\n')"
      ]
    },
    {
      "cell_type": "markdown",
      "source": [
        "##### 85% Accuracy"
      ],
      "metadata": {
        "id": "LTRqSaO-zE4l"
      },
      "id": "LTRqSaO-zE4l"
    },
    {
      "cell_type": "markdown",
      "source": [
        "### 3. Logistic Regression"
      ],
      "metadata": {
        "id": "UAlVA696zE1H"
      },
      "id": "UAlVA696zE1H"
    },
    {
      "cell_type": "code",
      "execution_count": null,
      "id": "8fcbdf41",
      "metadata": {
        "id": "8fcbdf41",
        "outputId": "53c53e2b-d38f-488d-e58d-d367e728722d",
        "colab": {
          "base_uri": "https://localhost:8080/",
          "height": 702
        }
      },
      "outputs": [
        {
          "output_type": "stream",
          "name": "stdout",
          "text": [
            "              precision    recall  f1-score   support\n",
            "\n",
            "          -1       0.88      0.83      0.85       564\n",
            "           0       0.75      0.76      0.76       563\n",
            "           1       0.70      0.76      0.73       564\n",
            "           2       0.82      0.79      0.81       563\n",
            "\n",
            "    accuracy                           0.79      2254\n",
            "   macro avg       0.79      0.79      0.79      2254\n",
            "weighted avg       0.79      0.79      0.79      2254\n",
            "\n",
            "{'max_iter': 500, 'C': 1}\n"
          ]
        },
        {
          "output_type": "display_data",
          "data": {
            "text/plain": [
              "<Figure size 500x500 with 2 Axes>"
            ],
            "image/png": "[encoded data removed]"
          },
          "metadata": {}
        }
      ],
      "source": [
        "param_grid={'C':[0.001,0.01,0.1,1,10,100], 'max_iter':[50,75,100,200,300,400,500,700]}\n",
        "log=RandomizedSearchCV(LogisticRegression(solver='lbfgs'),param_grid,cv=5)\n",
        "log.fit(X_train,y_train)\n",
        "y_pred_log=log.predict(X_test)\n",
        "confusion_log=confusion_matrix(y_test,log.predict(X_test))\n",
        "plt.figure(figsize=(5,5))\n",
        "sns.heatmap(confusion_log,annot=True)\n",
        "plt.xlabel(\"Predicted\")\n",
        "plt.ylabel(\"Actual\")\n",
        "print(classification_report(y_test,y_pred_log))\n",
        "print(log.best_params_)"
      ]
    },
    {
      "cell_type": "markdown",
      "source": [
        "##### 79% Accuracy"
      ],
      "metadata": {
        "id": "0uRgLcj5zpxY"
      },
      "id": "0uRgLcj5zpxY"
    },
    {
      "cell_type": "markdown",
      "source": [
        "### 4. Random Forest Classifier"
      ],
      "metadata": {
        "id": "OtsGZqGIzUOq"
      },
      "id": "OtsGZqGIzUOq"
    },
    {
      "cell_type": "code",
      "execution_count": null,
      "id": "e2b8fab4",
      "metadata": {
        "id": "e2b8fab4",
        "outputId": "c0971bf8-36d9-41c5-ec4b-718323d7439e",
        "colab": {
          "base_uri": "https://localhost:8080/",
          "height": 739
        }
      },
      "outputs": [
        {
          "output_type": "stream",
          "name": "stdout",
          "text": [
            "              precision    recall  f1-score   support\n",
            "\n",
            "          -1       0.87      0.86      0.86       564\n",
            "           0       0.81      0.77      0.79       563\n",
            "           1       0.81      0.86      0.84       564\n",
            "           2       0.90      0.90      0.90       563\n",
            "\n",
            "    accuracy                           0.85      2254\n",
            "   macro avg       0.85      0.85      0.85      2254\n",
            "weighted avg       0.85      0.85      0.85      2254\n",
            "\n",
            "\n",
            "Best Parameter: {'n_estimators': 50}\n",
            "\n"
          ]
        },
        {
          "output_type": "display_data",
          "data": {
            "text/plain": [
              "<Figure size 500x500 with 2 Axes>"
            ],
            "image/png": "[encoded data removed]"
          },
          "metadata": {}
        }
      ],
      "source": [
        "param_grid = {\n",
        "'n_estimators': [50, 75,100, 150, 200,300],\n",
        "}\n",
        "rcv=RandomizedSearchCV(RandomForestClassifier(random_state=42),param_grid,cv=5)\n",
        "rcv.fit(X_train,y_train)\n",
        "y_pred_rcv=rcv.predict(X_test)\n",
        "confusion_rcv=confusion_matrix(y_test,rcv.predict(X_test))\n",
        "plt.figure(figsize=(5,5))\n",
        "sns.heatmap(confusion_rcv,annot=True)\n",
        "plt.xlabel(\"Predicted\")\n",
        "plt.ylabel(\"Actual\")\n",
        "print(classification_report(y_test,y_pred_rcv))\n",
        "print(f'\\nBest Parameter: {rcv.best_params_}\\n')"
      ]
    },
    {
      "cell_type": "markdown",
      "source": [
        "##### 85% Accuracy"
      ],
      "metadata": {
        "id": "dgipdeJXzwZI"
      },
      "id": "dgipdeJXzwZI"
    },
    {
      "cell_type": "markdown",
      "source": [
        "### 5. Gradient Boosting"
      ],
      "metadata": {
        "id": "vMXLvp4jzekX"
      },
      "id": "vMXLvp4jzekX"
    },
    {
      "cell_type": "code",
      "execution_count": null,
      "id": "d6b394f5",
      "metadata": {
        "id": "d6b394f5",
        "outputId": "51737d39-1449-4e96-b446-ac8644490888",
        "colab": {
          "base_uri": "https://localhost:8080/",
          "height": 739
        }
      },
      "outputs": [
        {
          "output_type": "stream",
          "name": "stdout",
          "text": [
            "              precision    recall  f1-score   support\n",
            "\n",
            "          -1       0.87      0.85      0.86       564\n",
            "           0       0.80      0.79      0.79       563\n",
            "           1       0.82      0.86      0.84       564\n",
            "           2       0.90      0.90      0.90       563\n",
            "\n",
            "    accuracy                           0.85      2254\n",
            "   macro avg       0.85      0.85      0.85      2254\n",
            "weighted avg       0.85      0.85      0.85      2254\n",
            "\n",
            "\n",
            "Best Parameter: {'n_estimators': 300, 'learning_rate': 0.25}\n",
            "\n"
          ]
        },
        {
          "output_type": "display_data",
          "data": {
            "text/plain": [
              "<Figure size 500x500 with 2 Axes>"
            ],
            "image/png": "[encoded data removed]"
          },
          "metadata": {}
        }
      ],
      "source": [
        "from sklearn.ensemble import GradientBoostingClassifier\n",
        "param_grid = {\n",
        "    'learning_rate' : [0.05, 0.075, 0.1, 0.25, 0.5, 0.75, 1],\n",
        "    'n_estimators': [50, 75,100, 150, 200,300],\n",
        "}\n",
        "\n",
        "gbc=RandomizedSearchCV(GradientBoostingClassifier(random_state=42),param_grid,cv=5)\n",
        "gbc.fit(X_train,y_train)\n",
        "y_pred_gbc=gbc.predict(X_test)\n",
        "confusion_gbc=confusion_matrix(y_test,y_pred_gbc)\n",
        "plt.figure(figsize=(5,5))\n",
        "sns.heatmap(confusion_gbc,annot=True)\n",
        "plt.xlabel(\"Predicted\")\n",
        "plt.ylabel(\"Actual\")\n",
        "print(classification_report(y_test,y_pred_gbc))\n",
        "print(f'\\nBest Parameter: {gbc.best_params_}\\n')"
      ]
    },
    {
      "cell_type": "markdown",
      "source": [
        "##### 85% Accuracy"
      ],
      "metadata": {
        "id": "1xMjP0Upz2we"
      },
      "id": "1xMjP0Upz2we"
    },
    {
      "cell_type": "markdown",
      "source": [
        "### 6. ADABoost Classifier"
      ],
      "metadata": {
        "id": "ReYw49ii1T6D"
      },
      "id": "ReYw49ii1T6D"
    },
    {
      "cell_type": "code",
      "execution_count": null,
      "id": "12976759",
      "metadata": {
        "id": "12976759",
        "colab": {
          "base_uri": "https://localhost:8080/",
          "height": 685
        },
        "outputId": "183e2a03-0f88-4f6b-9586-f6f886409fff"
      },
      "outputs": [
        {
          "output_type": "stream",
          "name": "stdout",
          "text": [
            "              precision    recall  f1-score   support\n",
            "\n",
            "          -1       0.73      0.87      0.80       564\n",
            "           0       0.69      0.55      0.61       563\n",
            "           1       0.57      0.68      0.62       564\n",
            "           2       0.73      0.61      0.66       563\n",
            "\n",
            "    accuracy                           0.68      2254\n",
            "   macro avg       0.68      0.68      0.67      2254\n",
            "weighted avg       0.68      0.68      0.67      2254\n",
            "\n"
          ]
        },
        {
          "output_type": "display_data",
          "data": {
            "text/plain": [
              "<Figure size 500x500 with 2 Axes>"
            ],
            "image/png": "[encoded data removed]"
          },
          "metadata": {}
        }
      ],
      "source": [
        "from sklearn.model_selection import cross_val_score\n",
        "from sklearn.ensemble import AdaBoostClassifier\n",
        "\n",
        "clf_ada = AdaBoostClassifier(n_estimators=100)\n",
        "clf_ada.fit(X_train,y_train)\n",
        "y_pred_ada=clf_ada.predict(X_test)\n",
        "confusion_ada=confusion_matrix(y_test,y_pred_ada)\n",
        "plt.figure(figsize=(5,5))\n",
        "sns.heatmap(confusion_ada,annot=True)\n",
        "plt.xlabel(\"Predicted\")\n",
        "plt.ylabel(\"Actual\")\n",
        "print(classification_report(y_test,y_pred_ada))"
      ]
    },
    {
      "cell_type": "markdown",
      "source": [
        "##### 68% Accuracy"
      ],
      "metadata": {
        "id": "kn2wH8qU2KKw"
      },
      "id": "kn2wH8qU2KKw"
    },
    {
      "cell_type": "markdown",
      "source": [
        "### Training ensemble of these model"
      ],
      "metadata": {
        "id": "mI8Bih6C2m_V"
      },
      "id": "mI8Bih6C2m_V"
    },
    {
      "cell_type": "code",
      "source": [
        "from sklearn.ensemble import VotingClassifier\n",
        "\n",
        "estimators=[('svc', SVC(gamma=10, C=10, probability=True)), ('rfc', RandomForestClassifier(n_estimators=50)), ('gbc', GradientBoostingClassifier(n_estimators=300, learning_rate=0.25)),\n",
        "              ('log_reg', LogisticRegression(solver='lbfgs', max_iter=500, C=1)), ('knn', KNeighborsClassifier(n_neighbors=10)), ('ADA', AdaBoostClassifier(n_estimators=100))]\n",
        "\n",
        "ensemble = VotingClassifier(estimators, voting='hard')\n",
        "ensemble.fit_transform(X_train, y_train)\n",
        "y_pred_ensemble = ensemble.predict(X_test)\n",
        "print(classification_report(y_test,y_pred_ensemble))"
      ],
      "metadata": {
        "colab": {
          "base_uri": "https://localhost:8080/"
        },
        "id": "SSsfunot2G4F",
        "outputId": "4e5d3c29-6906-4e96-94df-1561c3e89693"
      },
      "id": "SSsfunot2G4F",
      "execution_count": null,
      "outputs": [
        {
          "output_type": "stream",
          "name": "stdout",
          "text": [
            "              precision    recall  f1-score   support\n",
            "\n",
            "          -1       0.87      0.87      0.87       564\n",
            "           0       0.82      0.78      0.80       563\n",
            "           1       0.82      0.86      0.84       564\n",
            "           2       0.90      0.90      0.90       563\n",
            "\n",
            "    accuracy                           0.85      2254\n",
            "   macro avg       0.85      0.85      0.85      2254\n",
            "weighted avg       0.85      0.85      0.85      2254\n",
            "\n"
          ]
        }
      ]
    },
    {
      "cell_type": "markdown",
      "source": [
        "#### --> Using Ensemble Improves the Precision, Recall, f1-score"
      ],
      "metadata": {
        "id": "x_UKYNk7-Ovr"
      },
      "id": "x_UKYNk7-Ovr"
    },
    {
      "cell_type": "markdown",
      "source": [
        "##### Saving the model"
      ],
      "metadata": {
        "id": "tJZX302w-owV"
      },
      "id": "tJZX302w-owV"
    },
    {
      "cell_type": "code",
      "source": [
        "import pickle\n",
        "filepath = '/content/drive/MyDrive/Temp_hack/my_ensemble.pickle'\n",
        "pickle.dump(ensemble, open(filepath, 'wb'))"
      ],
      "metadata": {
        "id": "APTGd9Kc-nek"
      },
      "id": "APTGd9Kc-nek",
      "execution_count": null,
      "outputs": []
    },
    {
      "cell_type": "code",
      "source": [],
      "metadata": {
        "colab": {
          "base_uri": "https://localhost:8080/",
          "height": 166
        },
        "id": "AjXYrByE_rcW",
        "outputId": "94d05351-bf20-46b1-d209-f13ca7d44cd7"
      },
      "id": "AjXYrByE_rcW",
      "execution_count": null,
      "outputs": [
        {
          "output_type": "error",
          "ename": "NameError",
          "evalue": "ignored",
          "traceback": [
            "\u001b[0;31m---------------------------------------------------------------------------\u001b[0m",
            "\u001b[0;31mNameError\u001b[0m                                 Traceback (most recent call last)",
            "\u001b[0;32m<ipython-input-66-8691346f1cf8>\u001b[0m in \u001b[0;36m<cell line: 1>\u001b[0;34m()\u001b[0m\n\u001b[0;32m----> 1\u001b[0;31m \u001b[0mensemble\u001b[0m\u001b[0;34m\u001b[0m\u001b[0;34m\u001b[0m\u001b[0m\n\u001b[0m",
            "\u001b[0;31mNameError\u001b[0m: name 'ensemble' is not defined"
          ]
        }
      ]
    }
  ],
  "metadata": {
    "kernelspec": {
      "display_name": "Python 3 (ipykernel)",
      "language": "python",
      "name": "python3"
    },
    "language_info": {
      "codemirror_mode": {
        "name": "ipython",
        "version": 3
      },
      "file_extension": ".py",
      "mimetype": "text/x-python",
      "name": "python",
      "nbconvert_exporter": "python",
      "pygments_lexer": "ipython3",
      "version": "3.9.7"
    },
    "colab": {
      "provenance": []
    }
  },
  "nbformat": 4,
  "nbformat_minor": 5
}